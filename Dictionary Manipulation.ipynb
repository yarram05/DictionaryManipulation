{
 "cells": [
  {
   "cell_type": "code",
   "execution_count": 2,
   "id": "9e596d46",
   "metadata": {},
   "outputs": [
    {
     "name": "stderr",
     "output_type": "stream",
     "text": [
      "2023-10-02 07:13:08,842 - INFO - Student Scores: {'Alice': 90, 'Bob': 72, 'Charlie': 90, 'David': 85, 'Emma': 78, 'Frank': 95, 'Grace': 89}\n",
      "2023-10-02 07:13:08,844 - INFO - Average Score: 85.57142857142857\n",
      "2023-10-02 07:13:08,845 - INFO - Top Scorer: Frank\n",
      "2023-10-02 07:13:08,847 - INFO - High Achievers: {'Alice': 90, 'Charlie': 90, 'Frank': 95}\n"
     ]
    }
   ],
   "source": [
    "import logging\n",
    "\n",
    "# Create an empty dictionary called student_scores.\n",
    "student_scores = {}\n",
    "\n",
    "# Adding Data to the dictionary.\n",
    "student_scores[\"Alice\"] = 85\n",
    "student_scores[\"Bob\"] = 72\n",
    "student_scores[\"Charlie\"] = 90\n",
    "student_scores[\"David\"] = 88\n",
    "student_scores[\"Emma\"] = 78\n",
    "\n",
    "# Updating Scores\n",
    "student_scores[\"Alice\"] += 5\n",
    "student_scores[\"David\"] -= 3\n",
    "\n",
    "# Write a function to get the average score.\n",
    "def get_average_score(scores):\n",
    "    total_score = sum(scores.values())\n",
    "    average_score = total_score / len(scores)\n",
    "    return average_score\n",
    "\n",
    "# Write a function to get the top scorer.\n",
    "def get_top_scorer(scores):\n",
    "    top_scorer = max(scores, key=scores.get)\n",
    "    return top_scorer\n",
    "\n",
    "# Adding Extra Data\n",
    "student_scores[\"Frank\"] = 95\n",
    "student_scores[\"Grace\"] = 89\n",
    "\n",
    "# Create a new dictionary using dictionary comprehension.\n",
    "high_achievers = {name: score for name, score in student_scores.items() if score >= 90}\n",
    "\n",
    "# Configure logging\n",
    "logging.basicConfig(level=logging.INFO, format='%(asctime)s - %(levelname)s - %(message)s')\n",
    "\n",
    "# Log the results\n",
    "logging.info(\"Student Scores: %s\", student_scores)\n",
    "logging.info(\"Average Score: %s\", get_average_score(student_scores))\n",
    "logging.info(\"Top Scorer: %s\", get_top_scorer(student_scores))\n",
    "logging.info(\"High Achievers: %s\", high_achievers)\n"
   ]
  },
  {
   "cell_type": "code",
   "execution_count": null,
   "id": "e450e1de",
   "metadata": {},
   "outputs": [],
   "source": []
  }
 ],
 "metadata": {
  "kernelspec": {
   "display_name": "Python 3 (ipykernel)",
   "language": "python",
   "name": "python3"
  },
  "language_info": {
   "codemirror_mode": {
    "name": "ipython",
    "version": 3
   },
   "file_extension": ".py",
   "mimetype": "text/x-python",
   "name": "python",
   "nbconvert_exporter": "python",
   "pygments_lexer": "ipython3",
   "version": "3.11.5"
  }
 },
 "nbformat": 4,
 "nbformat_minor": 5
}
