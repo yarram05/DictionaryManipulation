{
 "cells": [
  {
   "cell_type": "code",
   "execution_count": 9,
   "id": "0c7ebc29-0df3-41b1-be8e-99b63f3f02e3",
   "metadata": {
    "tags": []
   },
   "outputs": [
    {
     "name": "stderr",
     "output_type": "stream",
     "text": [
      "INFO:root:Phone Numbers: ['(044)-567-7890', '735-432-9990']\n"
     ]
    }
   ],
   "source": [
    "import re\n",
    "import logging\n",
    "\n",
    "# Sample text containing phone numbers\n",
    "text = \"Call me at (044)-567-7890 or 735-432-9990.\"\n",
    "\n",
    "# Regex pattern for phone numbers\n",
    "phone_pattern = r'\\(?\\d{3}\\)?[-.\\s]?\\d{3}[-.\\s]?\\d{4}'\n",
    "\n",
    "# Find all phone numbers in the text\n",
    "phone_numbers = re.findall(phone_pattern, text)\n",
    "\n",
    "# Logging the results\n",
    "logging.basicConfig(level=logging.INFO)\n",
    "logging.info(f\"Phone Numbers: {phone_numbers}\")\n"
   ]
  },
  {
   "cell_type": "code",
   "execution_count": 10,
   "id": "7c069392-778d-4057-bbc5-e7ac7569de66",
   "metadata": {
    "tags": []
   },
   "outputs": [
    {
     "name": "stderr",
     "output_type": "stream",
     "text": [
      "INFO:root:Email Addresses: ['john.doe@example.com', 'jane_doe123@gmail.com']\n"
     ]
    }
   ],
   "source": [
    "import re\n",
    "import logging\n",
    "\n",
    "# Sample text containing email addresses\n",
    "text = \"Email me at john.doe@example.com or jane_doe123@gmail.com.\"\n",
    "\n",
    "# Regex pattern for email addresses\n",
    "email_pattern = r'\\b[A-Za-z0-9._%+-]+@[A-Za-z0-9.-]+\\.[A-Z|a-z]{2,7}\\b'\n",
    "\n",
    "# Find all email addresses in the text\n",
    "email_addresses = re.findall(email_pattern, text)\n",
    "\n",
    "# Logging the results\n",
    "logging.basicConfig(level=logging.INFO)\n",
    "logging.info(f\"Email Addresses: {email_addresses}\")\n"
   ]
  },
  {
   "cell_type": "code",
   "execution_count": 11,
   "id": "078fddff-b1c9-4648-ba21-6903cf1027be",
   "metadata": {
    "tags": []
   },
   "outputs": [
    {
     "name": "stderr",
     "output_type": "stream",
     "text": [
      "INFO:root:Dates: ['10/25/2023', '12/05/2023']\n"
     ]
    }
   ],
   "source": [
    "import re\n",
    "import logging\n",
    "\n",
    "# Sample text containing dates\n",
    "text = \"The meeting is scheduled for 10/25/2023 and 12/05/2023.\"\n",
    "\n",
    "# Regex pattern for dates in \"dd/mm/yyyy\" format\n",
    "date_pattern = r'\\b\\d{2}/\\d{2}/\\d{4}\\b'\n",
    "\n",
    "# Find all dates in the text\n",
    "dates = re.findall(date_pattern, text)\n",
    "\n",
    "# Logging the results\n",
    "logging.basicConfig(level=logging.INFO)\n",
    "logging.info(f\"Dates: {dates}\")\n"
   ]
  },
  {
   "cell_type": "code",
   "execution_count": 12,
   "id": "e4d58a7d-40a1-4a7e-ab19-b7c96f298073",
   "metadata": {
    "tags": []
   },
   "outputs": [
    {
     "name": "stderr",
     "output_type": "stream",
     "text": [
      "INFO:root:URLs: ['https://www.example.com', 'http://www.example.org.']\n"
     ]
    }
   ],
   "source": [
    "import re\n",
    "import logging\n",
    "\n",
    "# Sample text containing URLs\n",
    "text = \"Visit our website at https://www.example.com or http://www.example.org.\"\n",
    "\n",
    "# Regex pattern for URLs\n",
    "url_pattern = r'https?://\\S+'\n",
    "\n",
    "# Find all URLs in the text\n",
    "urls = re.findall(url_pattern, text)\n",
    "\n",
    "# Logging the results\n",
    "logging.basicConfig(level=logging.INFO)\n",
    "logging.info(f\"URLs: {urls}\")\n"
   ]
  },
  {
   "cell_type": "code",
   "execution_count": 13,
   "id": "e91165fb-6c7a-419f-8424-60f7b6d8e090",
   "metadata": {
    "tags": []
   },
   "outputs": [
    {
     "name": "stderr",
     "output_type": "stream",
     "text": [
      "INFO:root:Password 'Abcdef12' is valid.\n",
      "INFO:root:Password 'StrongPassword123' is valid.\n",
      "WARNING:root:Password 'weakpass' is not valid.\n",
      "INFO:root:Password 'Pass@123' is valid.\n"
     ]
    }
   ],
   "source": [
    "import re\n",
    "import logging\n",
    "\n",
    "# Sample passwords\n",
    "passwords = [\"Abcdef12\", \"StrongPassword123\", \"weakpass\", \"Pass@123\"]\n",
    "\n",
    "# Regex pattern for password validation\n",
    "password_pattern = r'^(?=.*[a-z])(?=.*[A-Z])(?=.*\\d).{8,}$'\n",
    "\n",
    "# Validate passwords and log the results\n",
    "logging.basicConfig(level=logging.INFO)\n",
    "\n",
    "for password in passwords:\n",
    "    if re.match(password_pattern, password):\n",
    "        logging.info(f\"Password '{password}' is valid.\")\n",
    "    else:\n",
    "        logging.warning(f\"Password '{password}' is not valid.\")\n"
   ]
  },
  {
   "cell_type": "code",
   "execution_count": null,
   "id": "bf337512-ec85-4c53-98ef-2629b93fb9e5",
   "metadata": {},
   "outputs": [],
   "source": []
  }
 ],
 "metadata": {
  "kernelspec": {
   "display_name": "Python 3 (ipykernel)",
   "language": "python",
   "name": "python3"
  },
  "language_info": {
   "codemirror_mode": {
    "name": "ipython",
    "version": 3
   },
   "file_extension": ".py",
   "mimetype": "text/x-python",
   "name": "python",
   "nbconvert_exporter": "python",
   "pygments_lexer": "ipython3",
   "version": "3.11.5"
  }
 },
 "nbformat": 4,
 "nbformat_minor": 5
}
